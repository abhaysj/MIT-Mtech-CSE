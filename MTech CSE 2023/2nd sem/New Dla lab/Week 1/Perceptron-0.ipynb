{
 "cells": [
  {
   "cell_type": "code",
   "execution_count": 1,
   "id": "15eb64e3",
   "metadata": {},
   "outputs": [],
   "source": [
    "# Import necessary libraries\n",
    "import numpy as np"
   ]
  },
  {
   "cell_type": "code",
   "execution_count": 2,
   "id": "648289f3",
   "metadata": {},
   "outputs": [
    {
     "name": "stdout",
     "output_type": "stream",
     "text": [
      "Error : [2.43608438]\n",
      "Error : [1.78307939]\n",
      "Error : [1.24122122]\n",
      "Error : [0.85932903]\n",
      "Error : [0.59474324]\n",
      "Error : [0.41161523]\n",
      "Error : [0.28487404]\n",
      "Error : [0.19715795]\n",
      "Error : [0.13645068]\n",
      "Error : [0.0944359]\n",
      "Error : [0.06535797]\n",
      "Error : [0.04523348]\n",
      "Error : [0.03130555]\n",
      "Error : [0.0216662]\n",
      "Error : [0.01499492]\n",
      "Error : [0.01037781]\n",
      "Error : [0.00718236]\n",
      "Error : [0.00497082]\n",
      "Error : [0.00344025]\n",
      "Error : [0.00238096]\n",
      "Error : [0.00164783]\n",
      "Error : [0.00114044]\n",
      "Error : [0.00078929]\n",
      "weight : [0.00972713 0.00972713 0.98808675]\n",
      "Bias : [0.00972713]\n"
     ]
    }
   ],
   "source": [
    "\n",
    "#Adaline neural network\n",
    "def Adaline(Input, Target, lr=0.2, stop=0.001):\n",
    "    weight = np.random.random(Input.shape[1])\n",
    "    bias   = np.random.random(1)\n",
    "    \n",
    "    Error=[stop +1]\n",
    "    # check the stop condition for the network\n",
    "    while Error[-1] > stop or Error[-1]-Error[-2] > 0.0001:\n",
    "        error = []\n",
    "        for i in range(Input.shape[0]):\n",
    "            Y_input = sum(weight*Input[i]) + bias\n",
    "             \n",
    "            # Update the weight\n",
    "            for j in range(Input.shape[1]):\n",
    "                weight[j]=weight[j] + lr*(Target[i]-Y_input)*Input[i][j]\n",
    " \n",
    "            # Update the bias\n",
    "            bias=bias + lr*(Target[i]-Y_input)\n",
    "             \n",
    "            # Store squared error value\n",
    "            error.append((Target[i]-Y_input)**2)\n",
    "        # Store sum of square errors\n",
    "        Error.append(sum(error))\n",
    "        print('Error :',Error[-1])\n",
    "    return weight, bias\n",
    " \n",
    "# Input dataset\n",
    "x = np.array([[1.0, 1.0, 1.0],\n",
    "              [1.0, -1.0, 1.0],\n",
    "              [-1.0, 1.0, 1.0],\n",
    "              [-1.0, -1.0, -1.0]])\n",
    "# Target values\n",
    "t = np.array([1, 1, 1, -1])\n",
    " \n",
    "w,b = Adaline(x, t, lr=0.2, stop=0.001)\n",
    "print('weight :',w)\n",
    "print('Bias :',b)"
   ]
  },
  {
   "cell_type": "code",
   "execution_count": 3,
   "id": "5ade31ef",
   "metadata": {},
   "outputs": [
    {
     "data": {
      "text/plain": [
       "[array([1.01726813]),\n",
       " array([0.99781388]),\n",
       " array([0.99781388]),\n",
       " array([-0.99781388])]"
      ]
     },
     "execution_count": 3,
     "metadata": {},
     "output_type": "execute_result"
    }
   ],
   "source": [
    "# Predict from the evaluated weight and bias of adaline\n",
    "def prediction(X,w,b):\n",
    "    y=[]\n",
    "    for i in range(X.shape[0]):\n",
    "        x = X[i]\n",
    "        y.append(sum(w*x)+b)\n",
    "    return y\n",
    "prediction(x,w,b)"
   ]
  },
  {
   "cell_type": "code",
   "execution_count": null,
   "id": "b88ba218",
   "metadata": {},
   "outputs": [],
   "source": []
  }
 ],
 "metadata": {
  "kernelspec": {
   "display_name": "Python 3 (ipykernel)",
   "language": "python",
   "name": "python3"
  },
  "language_info": {
   "codemirror_mode": {
    "name": "ipython",
    "version": 3
   },
   "file_extension": ".py",
   "mimetype": "text/x-python",
   "name": "python",
   "nbconvert_exporter": "python",
   "pygments_lexer": "ipython3",
   "version": "3.11.4"
  }
 },
 "nbformat": 4,
 "nbformat_minor": 5
}
